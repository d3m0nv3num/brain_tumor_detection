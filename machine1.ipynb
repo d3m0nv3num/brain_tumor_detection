{
 "cells": [
  {
   "cell_type": "markdown",
   "metadata": {},
   "source": [
    "# Brain tumor identifying CNN"
   ]
  },
  {
   "cell_type": "markdown",
   "metadata": {},
   "source": [
    "## Importing libraries required"
   ]
  },
  {
   "cell_type": "code",
   "execution_count": 1,
   "metadata": {},
   "outputs": [],
   "source": [
    "from tensorflow.keras.models import Sequential\n",
    "from tensorflow.keras.layers import Convolution2D\n",
    "from tensorflow.keras.layers import Flatten\n",
    "from tensorflow.keras.layers import Dense\n",
    "from tensorflow.keras.layers import MaxPooling2D\n"
   ]
  },
  {
   "cell_type": "markdown",
   "metadata": {},
   "source": [
    "## Constructing the Model"
   ]
  },
  {
   "cell_type": "code",
   "execution_count": 2,
   "metadata": {},
   "outputs": [],
   "source": [
    "classifier = Sequential()\n",
    "#convolving \n",
    "classifier.add(Convolution2D(32,3,3,input_shape=(64,64,3),activation='relu'))\n",
    "#pooling\n",
    "classifier.add(MaxPooling2D(pool_size=(2,2)))\n",
    "#flatten\n",
    "classifier.add(Flatten())\n",
    "#making hidden layer and final layer\n",
    "classifier.add(Dense(128, activation='relu'))\n",
    "classifier.add(Dense(1,activation='sigmoid'))\n",
    "classifier.compile(optimizer='adam',loss='binary_crossentropy',metrics=['accuracy'])"
   ]
  },
  {
   "cell_type": "markdown",
   "metadata": {},
   "source": [
    "## Using image data genenrator"
   ]
  },
  {
   "cell_type": "code",
   "execution_count": 3,
   "metadata": {},
   "outputs": [],
   "source": [
    "from tensorflow.keras.preprocessing.image import ImageDataGenerator"
   ]
  },
  {
   "cell_type": "markdown",
   "metadata": {},
   "source": [
    "## Settting image data generator parameters"
   ]
  },
  {
   "cell_type": "code",
   "execution_count": 4,
   "metadata": {},
   "outputs": [],
   "source": [
    "train_datagen = ImageDataGenerator(\n",
    "        rescale=1./255,\n",
    "        shear_range=0.2,\n",
    "        zoom_range=0.3,\n",
    "        rotation_range=24,\n",
    "        width_shift_range=0.1,\n",
    "        height_shift_range=0.2,\n",
    "        horizontal_flip=True,\n",
    "        vertical_flip=True\n",
    "        )\n",
    "        #note: some amount of experimeting can be done but after looking at the sample images we can get an idea of what parameters to set"
   ]
  },
  {
   "cell_type": "markdown",
   "metadata": {},
   "source": [
    "## Using our imagedatagenerator on traing and testing directories"
   ]
  },
  {
   "cell_type": "code",
   "execution_count": 5,
   "metadata": {},
   "outputs": [
    {
     "name": "stdout",
     "output_type": "stream",
     "text": [
      "Found 3689 images belonging to 2 classes.\n"
     ]
    }
   ],
   "source": [
    "test_datagen = ImageDataGenerator(rescale=1./255)\n",
    "train_generator = train_datagen.flow_from_directory(\n",
    "        'D:/brain tumor/archive/Brain Tumor Data Set/Brain Tumor Data Set/tumor/training',\n",
    "        target_size=(64, 64),\n",
    "        batch_size=20,\n",
    "        class_mode='binary')"
   ]
  },
  {
   "cell_type": "code",
   "execution_count": 6,
   "metadata": {},
   "outputs": [
    {
     "name": "stdout",
     "output_type": "stream",
     "text": [
      "Found 920 images belonging to 2 classes.\n"
     ]
    }
   ],
   "source": [
    "validation_generator = test_datagen.flow_from_directory(\n",
    "        'D:/brain tumor/archive/Brain Tumor Data Set/Brain Tumor Data Set/tumor/test',\n",
    "        target_size=(64, 64),\n",
    "        batch_size=20,\n",
    "        class_mode='binary')"
   ]
  },
  {
   "cell_type": "markdown",
   "metadata": {},
   "source": [
    "## Model training and validation "
   ]
  },
  {
   "cell_type": "code",
   "execution_count": 7,
   "metadata": {},
   "outputs": [
    {
     "name": "stdout",
     "output_type": "stream",
     "text": [
      "Epoch 1/10\n",
      "185/185 [==============================] - 12s 62ms/step - loss: 0.6493 - accuracy: 0.6267 - val_loss: 0.6296 - val_accuracy: 0.6793\n",
      "Epoch 2/10\n",
      "185/185 [==============================] - 12s 62ms/step - loss: 0.6115 - accuracy: 0.6734 - val_loss: 0.5934 - val_accuracy: 0.6913\n",
      "Epoch 3/10\n",
      "185/185 [==============================] - 12s 63ms/step - loss: 0.6041 - accuracy: 0.6801 - val_loss: 0.7391 - val_accuracy: 0.6402\n",
      "Epoch 4/10\n",
      "185/185 [==============================] - 12s 65ms/step - loss: 0.5914 - accuracy: 0.6864 - val_loss: 0.6267 - val_accuracy: 0.6609\n",
      "Epoch 5/10\n",
      "185/185 [==============================] - 12s 64ms/step - loss: 0.5830 - accuracy: 0.6940 - val_loss: 0.6142 - val_accuracy: 0.6891\n",
      "Epoch 6/10\n",
      "185/185 [==============================] - 12s 65ms/step - loss: 0.5618 - accuracy: 0.7132 - val_loss: 0.5936 - val_accuracy: 0.7120\n",
      "Epoch 7/10\n",
      "185/185 [==============================] - 12s 63ms/step - loss: 0.5576 - accuracy: 0.7146 - val_loss: 0.6284 - val_accuracy: 0.7109\n",
      "Epoch 8/10\n",
      "185/185 [==============================] - 11s 58ms/step - loss: 0.5493 - accuracy: 0.7156 - val_loss: 0.5646 - val_accuracy: 0.7326\n",
      "Epoch 9/10\n",
      "185/185 [==============================] - 11s 57ms/step - loss: 0.5343 - accuracy: 0.7270 - val_loss: 0.5546 - val_accuracy: 0.7304\n",
      "Epoch 10/10\n",
      "185/185 [==============================] - 10s 55ms/step - loss: 0.5118 - accuracy: 0.7338 - val_loss: 0.5568 - val_accuracy: 0.7543\n"
     ]
    },
    {
     "data": {
      "text/plain": [
       "<keras.callbacks.History at 0x22cc820f8b0>"
      ]
     },
     "execution_count": 7,
     "metadata": {},
     "output_type": "execute_result"
    }
   ],
   "source": [
    "classifier.fit(\n",
    "        train_generator,\n",
    "        epochs=10,\n",
    "        validation_data=validation_generator,\n",
    "        )"
   ]
  }
 ],
 "metadata": {
  "interpreter": {
   "hash": "321ae86fb7b618c72e5044b133fa19627be44f36bf53d38ce845f2418250ea40"
  },
  "kernelspec": {
   "display_name": "Python 3.9.7 64-bit (windows store)",
   "name": "python3"
  },
  "language_info": {
   "codemirror_mode": {
    "name": "ipython",
    "version": 3
   },
   "file_extension": ".py",
   "mimetype": "text/x-python",
   "name": "python",
   "nbconvert_exporter": "python",
   "pygments_lexer": "ipython3",
   "version": "3.9.7"
  },
  "orig_nbformat": 4
 },
 "nbformat": 4,
 "nbformat_minor": 2
}
