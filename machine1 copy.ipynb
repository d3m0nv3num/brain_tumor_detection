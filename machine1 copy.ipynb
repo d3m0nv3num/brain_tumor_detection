{
 "cells": [
  {
   "cell_type": "markdown",
   "metadata": {},
   "source": [
    "# Brain tumor identifying CNN"
   ]
  },
  {
   "cell_type": "markdown",
   "metadata": {},
   "source": [
    "## Importing libraries required"
   ]
  },
  {
   "cell_type": "code",
   "execution_count": 1,
   "metadata": {},
   "outputs": [],
   "source": [
    "from tensorflow.keras.models import Sequential\n",
    "from tensorflow.keras.layers import Convolution2D\n",
    "from tensorflow.keras.layers import Flatten\n",
    "from tensorflow.keras.layers import Dense\n",
    "from tensorflow.keras.layers import MaxPooling2D\n"
   ]
  },
  {
   "cell_type": "markdown",
   "metadata": {},
   "source": [
    "## Constructing the Model"
   ]
  },
  {
   "cell_type": "code",
   "execution_count": 2,
   "metadata": {},
   "outputs": [],
   "source": [
    "classifier = Sequential()\n",
    "#convolving \n",
    "classifier.add(Convolution2D(32,3,3,input_shape=(64,64,3),activation='relu'))\n",
    "#pooling\n",
    "classifier.add(MaxPooling2D(pool_size=(2,2)))\n",
    "#flatten\n",
    "classifier.add(Flatten())\n",
    "#making hidden layer and final layer\n",
    "classifier.add(Dense(128, activation='relu'))\n",
    "classifier.add(Dense(1,activation='sigmoid'))\n",
    "classifier.compile(optimizer='adam',loss='binary_crossentropy',metrics=['accuracy'])"
   ]
  },
  {
   "cell_type": "markdown",
   "metadata": {},
   "source": [
    "## Using image data genenrator"
   ]
  },
  {
   "cell_type": "code",
   "execution_count": 3,
   "metadata": {},
   "outputs": [],
   "source": [
    "from tensorflow.keras.preprocessing.image import ImageDataGenerator"
   ]
  },
  {
   "cell_type": "markdown",
   "metadata": {},
   "source": [
    "## Settting image data generator parameters"
   ]
  },
  {
   "cell_type": "code",
   "execution_count": 4,
   "metadata": {},
   "outputs": [],
   "source": [
    "train_datagen = ImageDataGenerator(\n",
    "        rescale=1./255,\n",
    "        shear_range=0.1,\n",
    "        zoom_range=0.1,\n",
    "        rotation_range=5,\n",
    "        width_shift_range=0,\n",
    "        height_shift_range=0,\n",
    "        horizontal_flip=True,\n",
    "        vertical_flip=False\n",
    "        )\n",
    "        #note: some amount of experimeting can be done but after looking at the sample images we can get an idea of what parameters to set"
   ]
  },
  {
   "cell_type": "markdown",
   "metadata": {},
   "source": [
    "## Using our imagedatagenerator on traing and testing directories"
   ]
  },
  {
   "cell_type": "code",
   "execution_count": 5,
   "metadata": {},
   "outputs": [
    {
     "name": "stdout",
     "output_type": "stream",
     "text": [
      "Found 3689 images belonging to 2 classes.\n"
     ]
    }
   ],
   "source": [
    "test_datagen = ImageDataGenerator(rescale=1./255)\n",
    "train_generator = train_datagen.flow_from_directory(\n",
    "        'D:/brain tumor/archive/Brain Tumor Data Set/Brain Tumor Data Set/tumor/training',\n",
    "        target_size=(64, 64),\n",
    "        batch_size=20,\n",
    "        class_mode='binary')"
   ]
  },
  {
   "cell_type": "code",
   "execution_count": 6,
   "metadata": {},
   "outputs": [
    {
     "name": "stdout",
     "output_type": "stream",
     "text": [
      "Found 920 images belonging to 2 classes.\n"
     ]
    }
   ],
   "source": [
    "validation_generator = test_datagen.flow_from_directory(\n",
    "        'D:/brain tumor/archive/Brain Tumor Data Set/Brain Tumor Data Set/tumor/test',\n",
    "        target_size=(64, 64),\n",
    "        batch_size=20,\n",
    "        class_mode='binary')"
   ]
  },
  {
   "cell_type": "markdown",
   "metadata": {},
   "source": [
    "## Model training and validation "
   ]
  },
  {
   "cell_type": "code",
   "execution_count": 7,
   "metadata": {},
   "outputs": [
    {
     "name": "stdout",
     "output_type": "stream",
     "text": [
      "Epoch 1/10\n",
      "185/185 [==============================] - 16s 87ms/step - loss: 0.5725 - accuracy: 0.7002 - val_loss: 0.4942 - val_accuracy: 0.7489\n",
      "Epoch 2/10\n",
      "185/185 [==============================] - 15s 82ms/step - loss: 0.4497 - accuracy: 0.7972 - val_loss: 0.5500 - val_accuracy: 0.7467\n",
      "Epoch 3/10\n",
      "185/185 [==============================] - 14s 75ms/step - loss: 0.4113 - accuracy: 0.8149 - val_loss: 0.4605 - val_accuracy: 0.7717\n",
      "Epoch 4/10\n",
      "185/185 [==============================] - 15s 82ms/step - loss: 0.3755 - accuracy: 0.8308 - val_loss: 0.5013 - val_accuracy: 0.7739\n",
      "Epoch 5/10\n",
      "185/185 [==============================] - 13s 72ms/step - loss: 0.3464 - accuracy: 0.8520 - val_loss: 0.4848 - val_accuracy: 0.7924\n",
      "Epoch 6/10\n",
      "185/185 [==============================] - 14s 77ms/step - loss: 0.3130 - accuracy: 0.8650 - val_loss: 0.4555 - val_accuracy: 0.8109\n",
      "Epoch 7/10\n",
      "185/185 [==============================] - 14s 75ms/step - loss: 0.2965 - accuracy: 0.8715 - val_loss: 0.3676 - val_accuracy: 0.8446\n",
      "Epoch 8/10\n",
      "185/185 [==============================] - 13s 73ms/step - loss: 0.2709 - accuracy: 0.8886 - val_loss: 0.3844 - val_accuracy: 0.8554\n",
      "Epoch 9/10\n",
      "185/185 [==============================] - 14s 78ms/step - loss: 0.2666 - accuracy: 0.8891 - val_loss: 0.3738 - val_accuracy: 0.8467\n",
      "Epoch 10/10\n",
      "185/185 [==============================] - 13s 72ms/step - loss: 0.2398 - accuracy: 0.8973 - val_loss: 0.3235 - val_accuracy: 0.8685\n"
     ]
    },
    {
     "data": {
      "text/plain": [
       "<keras.callbacks.History at 0x11d8d5d3c40>"
      ]
     },
     "execution_count": 7,
     "metadata": {},
     "output_type": "execute_result"
    }
   ],
   "source": [
    "classifier.fit(\n",
    "        train_generator,\n",
    "        epochs=10,\n",
    "        validation_data=validation_generator,\n",
    "        )"
   ]
  }
 ],
 "metadata": {
  "interpreter": {
   "hash": "321ae86fb7b618c72e5044b133fa19627be44f36bf53d38ce845f2418250ea40"
  },
  "kernelspec": {
   "display_name": "Python 3.9.7 64-bit (windows store)",
   "name": "python3"
  },
  "language_info": {
   "codemirror_mode": {
    "name": "ipython",
    "version": 3
   },
   "file_extension": ".py",
   "mimetype": "text/x-python",
   "name": "python",
   "nbconvert_exporter": "python",
   "pygments_lexer": "ipython3",
   "version": "3.9.9"
  },
  "orig_nbformat": 4
 },
 "nbformat": 4,
 "nbformat_minor": 2
}
